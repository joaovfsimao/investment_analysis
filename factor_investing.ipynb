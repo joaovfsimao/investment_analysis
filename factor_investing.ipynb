{
 "cells": [
  {
   "cell_type": "code",
   "execution_count": null,
   "metadata": {},
   "outputs": [],
   "source": [
    "import pandas as pd\n",
    "import quantstats as qs"
   ]
  },
  {
   "cell_type": "code",
   "execution_count": null,
   "metadata": {},
   "outputs": [],
   "source": [
    "dados_empresas = pd.read_csv('dados_empresas.csv')\n",
    "\n",
    "dados_empresas"
   ]
  },
  {
   "cell_type": "code",
   "execution_count": null,
   "metadata": {},
   "outputs": [],
   "source": [
    "dados_empresas[\"retorno\"] = dados_empresas.groupby(\"ticker\")[\"preco_fechamento_ajustado\"].pct_change()\n",
    "dados_empresas"
   ]
  },
  {
   "cell_type": "code",
   "execution_count": null,
   "metadata": {},
   "outputs": [],
   "source": [
    "dados_empresas[\"retorno\"] = dados_empresas.groupby(\"ticker\")[\"retorno\"].shift(-1)\n",
    "\n",
    "dados_empresas"
   ]
  },
  {
   "cell_type": "code",
   "execution_count": null,
   "metadata": {},
   "outputs": [],
   "source": [
    "dados_empresas = dados_empresas[dados_empresas[\"volume_negociado\"] > 1000000]\n",
    "\n",
    "dados_empresas"
   ]
  },
  {
   "cell_type": "code",
   "execution_count": null,
   "metadata": {},
   "outputs": [],
   "source": [
    "dados_empresas['ranking_ebit_ev'] = dados_empresas.groupby(\"data\")[\"ebit_ev\"].rank(ascending= False)\n",
    "\n",
    "dados_empresas"
   ]
  },
  {
   "cell_type": "code",
   "execution_count": null,
   "metadata": {},
   "outputs": [],
   "source": [
    "dados_empresas = dados_empresas[dados_empresas[\"ranking_ebit_ev\"] <= 10]\n",
    "dados_empresas "
   ]
  },
  {
   "cell_type": "code",
   "execution_count": null,
   "metadata": {},
   "outputs": [],
   "source": [
    "rentabilidade_por_carteira = dados_empresas.groupby(\"data\")[\"retorno\"].mean()\n",
    "rentabilidade_por_carteira = rentabilidade_por_carteira.to_frame()\n",
    "\n",
    "rentabilidade_por_carteira"
   ]
  },
  {
   "cell_type": "code",
   "execution_count": null,
   "metadata": {},
   "outputs": [],
   "source": [
    "rentabilidade_por_carteira[\"empresas_baratas_modelo\"] = (1 + rentabilidade_por_carteira['retorno']).cumprod() - 1\n",
    "\n",
    "rentabilidade_por_carteira = rentabilidade_por_carteira.shift(1)\n",
    "\n",
    "rentabilidade_por_carteira = rentabilidade_por_carteira.dropna()\n",
    "\n",
    "rentabilidade_por_carteira"
   ]
  },
  {
   "cell_type": "code",
   "execution_count": null,
   "metadata": {},
   "outputs": [],
   "source": [
    "ibov = pd.read_csv(\"ibov.csv\")\n",
    "ibov"
   ]
  },
  {
   "cell_type": "code",
   "execution_count": null,
   "metadata": {},
   "outputs": [],
   "source": [
    "retornos_ibov = ibov['fechamento'].pct_change().dropna()\n",
    "\n",
    "retorno_acumulado_ibov = (1 + retornos_ibov).cumprod() - 1\n",
    "\n",
    "rentabilidade_por_carteira['ibovespa'] = retorno_acumulado_ibov.values\n",
    "\n",
    "rentabilidade_por_carteira"
   ]
  },
  {
   "cell_type": "code",
   "execution_count": null,
   "metadata": {},
   "outputs": [],
   "source": [
    "rentabilidade_por_carteira = rentabilidade_por_carteira.drop(\"retorno\", axis = 1)\n",
    "\n",
    "rentabilidade_por_carteira"
   ]
  },
  {
   "cell_type": "code",
   "execution_count": null,
   "metadata": {},
   "outputs": [],
   "source": [
    "qs.extend_pandas()\n",
    "rentabilidade_por_carteira.index = pd.to_datetime(rentabilidade_por_carteira.index)"
   ]
  },
  {
   "cell_type": "code",
   "execution_count": null,
   "metadata": {},
   "outputs": [],
   "source": [
    "rentabilidade_por_carteira['empresas_baratas_modelo'].plot_monthly_heatmap()\n",
    "rentabilidade_por_carteira[\"ibovespa\"].plot_monthly_heatmap()"
   ]
  },
  {
   "cell_type": "code",
   "execution_count": null,
   "metadata": {},
   "outputs": [],
   "source": []
  }
 ],
 "metadata": {
  "kernelspec": {
   "display_name": "base",
   "language": "python",
   "name": "python3"
  },
  "language_info": {
   "codemirror_mode": {
    "name": "ipython",
    "version": 3
   },
   "file_extension": ".py",
   "mimetype": "text/x-python",
   "name": "python",
   "nbconvert_exporter": "python",
   "pygments_lexer": "ipython3",
   "version": "3.11.5"
  }
 },
 "nbformat": 4,
 "nbformat_minor": 2
}
